{
  "nbformat": 4,
  "nbformat_minor": 0,
  "metadata": {
    "colab": {
      "provenance": [],
      "authorship_tag": "ABX9TyNpNnZCMmeo33g3IlFjPqu2",
      "include_colab_link": true
    },
    "kernelspec": {
      "name": "python3",
      "display_name": "Python 3"
    },
    "language_info": {
      "name": "python"
    }
  },
  "cells": [
    {
      "cell_type": "markdown",
      "metadata": {
        "id": "view-in-github",
        "colab_type": "text"
      },
      "source": [
        "<a href=\"https://colab.research.google.com/github/Jad256/Blog-Site/blob/main/People_Also_Ask_data_for_analysis.ipynb\" target=\"_parent\"><img src=\"https://colab.research.google.com/assets/colab-badge.svg\" alt=\"Open In Colab\"/></a>"
      ]
    },
    {
      "cell_type": "code",
      "execution_count": 12,
      "metadata": {
        "colab": {
          "base_uri": "https://localhost:8080/"
        },
        "id": "N8S3S2ygGIeX",
        "outputId": "43042069-b869-4eac-af2c-a6daa28b915a"
      },
      "outputs": [
        {
          "output_type": "stream",
          "name": "stdout",
          "text": [
            "Drive already mounted at /content/drive; to attempt to forcibly remount, call drive.mount(\"/content/drive\", force_remount=True).\n"
          ]
        }
      ],
      "source": [
        "# Data exploration\n",
        "from google.colab import drive\n",
        "drive.mount('/content/drive')"
      ]
    },
    {
      "cell_type": "code",
      "source": [
        "# Data exploration\n",
        "import pandas as pd\n",
        "\n",
        "file_path = '/content/drive/My Drive/People Also Ask - data for analysis.xlsx' # Loading Dataset\n",
        "data = pd.read_excel(file_path)\n",
        "\n",
        "print(\"Data Overview:\")\n",
        "print(data.info())  # Structure and data types"
      ],
      "metadata": {
        "colab": {
          "base_uri": "https://localhost:8080/"
        },
        "id": "42trwC-FM1BV",
        "outputId": "24220020-3591-414a-9f16-de2471ed7e23"
      },
      "execution_count": 21,
      "outputs": [
        {
          "output_type": "stream",
          "name": "stdout",
          "text": [
            "Data Overview:\n",
            "<class 'pandas.core.frame.DataFrame'>\n",
            "RangeIndex: 498 entries, 0 to 497\n",
            "Data columns (total 5 columns):\n",
            " #   Column       Non-Null Count  Dtype \n",
            "---  ------       --------------  ----- \n",
            " 0   prompt       498 non-null    object\n",
            " 1   question     496 non-null    object\n",
            " 2   title        495 non-null    object\n",
            " 3   description  495 non-null    object\n",
            " 4   link         495 non-null    object\n",
            "dtypes: object(5)\n",
            "memory usage: 19.6+ KB\n",
            "None\n"
          ]
        }
      ]
    },
    {
      "cell_type": "code",
      "source": [
        "print(data.describe) # Structure and data types"
      ],
      "metadata": {
        "colab": {
          "base_uri": "https://localhost:8080/"
        },
        "id": "88sWpVrcPP2I",
        "outputId": "7404b10e-7fec-4b0e-d6f8-db4b2d828b9e"
      },
      "execution_count": 19,
      "outputs": [
        {
          "output_type": "stream",
          "name": "stdout",
          "text": [
            "<bound method NDFrame.describe of                                                 prompt  \\\n",
            "0    Are there smoking options that don’t produce s...   \n",
            "1    Are there smoking options that don’t produce s...   \n",
            "2    Are there smoking options that don’t produce s...   \n",
            "3    Are there smoking options that don’t produce s...   \n",
            "4    How can I smoke without affecting others aroun...   \n",
            "..                                                 ...   \n",
            "493  Do smoke-free products contribute less to litt...   \n",
            "494  Which smoke-free products are made from sustai...   \n",
            "495  Which smoke-free products are made from sustai...   \n",
            "496  Which smoke-free products are made from sustai...   \n",
            "497  Which smoke-free products are made from sustai...   \n",
            "\n",
            "                                             question  \\\n",
            "0                  What is the safest smoking option?   \n",
            "1           Can lungs heal after 40 years of smoking?   \n",
            "2           Is there such a thing as passive smoking?   \n",
            "3                 How long does thirdhand smoke last?   \n",
            "4    How do you not get affected by secondhand smoke?   \n",
            "..                                                ...   \n",
            "493                    Why do so many smokers litter?   \n",
            "494                     What are smoke-free products?   \n",
            "495         What are the innovative tobacco products?   \n",
            "496                  What are Philip Morris products?   \n",
            "497                   What are reduced risk products?   \n",
            "\n",
            "                                                 title  \\\n",
            "0          Are there safe smoking and tobacco options?   \n",
            "1     Lungs 'magically' heal damage from smoking - BBC   \n",
            "2              Passive smoking - Better Health Channel   \n",
            "3             Thirdhand Smoke Beliefs of Parents - PMC   \n",
            "4    Heart attack prevention: Should I avoid second...   \n",
            "..                                                 ...   \n",
            "493             Why do smokers litter so much? - Quora   \n",
            "494  What are smoke-free products | Glossary - Phil...   \n",
            "495      Nicotine innovation: pouches and beyond - NPR   \n",
            "496                      Philip Morris USA - Wikipedia   \n",
            "497  Reduced-risk products RRPs | PMI - Philip Morr...   \n",
            "\n",
            "                                           description  \\\n",
            "0    There is no safe smoking option – tobacco is a...   \n",
            "1    The mutations that lead to lung cancer had bee...   \n",
            "2    Passive smoking means breathing in other peopl...   \n",
            "3    Thirdhand smoke is a toxic residue that settle...   \n",
            "4    Choose smoke-free places such as restaurants o...   \n",
            "..                                                 ...   \n",
            "493  Smokers may litter more frequently for several...   \n",
            "494  These alternatives to smoking includes heated ...   \n",
            "495  Zyn, Velo and other nicotine pouches are surgi...   \n",
            "496  It has been the leading cigarette manufacturer...   \n",
            "497  We use the term reduced-risk products to refer...   \n",
            "\n",
            "                                                  link  \n",
            "0    https://www.health.gov.au/topics/smoking-vapin...  \n",
            "1             https://www.bbc.com/news/health-51279355  \n",
            "2    https://www.betterhealth.vic.gov.au/health/con...  \n",
            "3    https://pmc.ncbi.nlm.nih.gov/articles/PMC3966506/  \n",
            "4    https://www.mayoclinic.org/diseases-conditions...  \n",
            "..                                                 ...  \n",
            "493  https://www.quora.com/Why-do-smokers-litter-so...  \n",
            "494  https://www.pmi.com/glossary-section/glossary/...  \n",
            "495  https://www.npr.org/2024/09/06/nx-s1-5090797/n...  \n",
            "496    https://en.wikipedia.org/wiki/Philip_Morris_USA  \n",
            "497  https://www.pmi.com/glossary-section/glossary/...  \n",
            "\n",
            "[498 rows x 5 columns]>\n"
          ]
        }
      ]
    },
    {
      "cell_type": "code",
      "source": [
        "print(\"\\nFirst Few Rows:\")\n",
        "print(data.head())  # Display the first 5 rows"
      ],
      "metadata": {
        "colab": {
          "base_uri": "https://localhost:8080/"
        },
        "id": "5J7WfisGM0_O",
        "outputId": "af876621-a121-4baf-b625-15f83ab162b8"
      },
      "execution_count": 16,
      "outputs": [
        {
          "output_type": "stream",
          "name": "stdout",
          "text": [
            "\n",
            "First Few Rows:\n",
            "                                              prompt  \\\n",
            "0  Are there smoking options that don’t produce s...   \n",
            "1  Are there smoking options that don’t produce s...   \n",
            "2  Are there smoking options that don’t produce s...   \n",
            "3  Are there smoking options that don’t produce s...   \n",
            "4  How can I smoke without affecting others aroun...   \n",
            "\n",
            "                                           question  \\\n",
            "0                What is the safest smoking option?   \n",
            "1         Can lungs heal after 40 years of smoking?   \n",
            "2         Is there such a thing as passive smoking?   \n",
            "3               How long does thirdhand smoke last?   \n",
            "4  How do you not get affected by secondhand smoke?   \n",
            "\n",
            "                                               title  \\\n",
            "0        Are there safe smoking and tobacco options?   \n",
            "1   Lungs 'magically' heal damage from smoking - BBC   \n",
            "2            Passive smoking - Better Health Channel   \n",
            "3           Thirdhand Smoke Beliefs of Parents - PMC   \n",
            "4  Heart attack prevention: Should I avoid second...   \n",
            "\n",
            "                                         description  \\\n",
            "0  There is no safe smoking option – tobacco is a...   \n",
            "1  The mutations that lead to lung cancer had bee...   \n",
            "2  Passive smoking means breathing in other peopl...   \n",
            "3  Thirdhand smoke is a toxic residue that settle...   \n",
            "4  Choose smoke-free places such as restaurants o...   \n",
            "\n",
            "                                                link  \n",
            "0  https://www.health.gov.au/topics/smoking-vapin...  \n",
            "1           https://www.bbc.com/news/health-51279355  \n",
            "2  https://www.betterhealth.vic.gov.au/health/con...  \n",
            "3  https://pmc.ncbi.nlm.nih.gov/articles/PMC3966506/  \n",
            "4  https://www.mayoclinic.org/diseases-conditions...  \n"
          ]
        }
      ]
    },
    {
      "cell_type": "code",
      "source": [
        "print(\"\\nMissing Values:\")\n",
        "print(data.isnull().sum())  # Count of missing values per column"
      ],
      "metadata": {
        "colab": {
          "base_uri": "https://localhost:8080/"
        },
        "id": "JLXBJZ_0M08e",
        "outputId": "cbbba86c-6cab-46ed-b8c2-125ff760627e"
      },
      "execution_count": 20,
      "outputs": [
        {
          "output_type": "stream",
          "name": "stdout",
          "text": [
            "\n",
            "Missing Values:\n",
            "prompt         0\n",
            "question       2\n",
            "title          3\n",
            "description    3\n",
            "link           3\n",
            "dtype: int64\n"
          ]
        }
      ]
    },
    {
      "cell_type": "code",
      "source": [
        "print(\"\\nSummary Statistics:\")\n",
        "print(data.describe(include='all'))  # Summary stats for numerical and categorical data"
      ],
      "metadata": {
        "colab": {
          "base_uri": "https://localhost:8080/"
        },
        "id": "CyV_KacqKuwE",
        "outputId": "63c7dca2-3036-488b-f37a-a408e8937d42"
      },
      "execution_count": 22,
      "outputs": [
        {
          "output_type": "stream",
          "name": "stdout",
          "text": [
            "\n",
            "Summary Statistics:\n",
            "                                                   prompt  \\\n",
            "count                                                 498   \n",
            "unique                                                126   \n",
            "top     Are there smoking options that don’t produce s...   \n",
            "freq                                                    4   \n",
            "\n",
            "                                   question  \\\n",
            "count                                   496   \n",
            "unique                                  378   \n",
            "top     Is IQOS better than cigarettes NHS?   \n",
            "freq                                     11   \n",
            "\n",
            "                                              title  \\\n",
            "count                                           495   \n",
            "unique                                          319   \n",
            "top     Are there safe smoking and tobacco options?   \n",
            "freq                                             11   \n",
            "\n",
            "                                              description  \\\n",
            "count                                                 495   \n",
            "unique                                                342   \n",
            "top     In recent years, e-cigarettes have become a ve...   \n",
            "freq                                                   11   \n",
            "\n",
            "                                                     link  \n",
            "count                                                 495  \n",
            "unique                                                312  \n",
            "top     https://www.health.gov.au/topics/smoking-vapin...  \n",
            "freq                                                   11  \n"
          ]
        }
      ]
    },
    {
      "cell_type": "code",
      "source": [
        "# Handle missing values\n",
        "print(\"\\nBefore Cleaning - Missing Values:\")\n",
        "print(data.isnull().sum())"
      ],
      "metadata": {
        "colab": {
          "base_uri": "https://localhost:8080/"
        },
        "id": "fypp7AYvKutr",
        "outputId": "0b96f342-a6de-4181-f7da-4cccbe9fc36a"
      },
      "execution_count": 23,
      "outputs": [
        {
          "output_type": "stream",
          "name": "stdout",
          "text": [
            "\n",
            "Before Cleaning - Missing Values:\n",
            "prompt         0\n",
            "question       2\n",
            "title          3\n",
            "description    3\n",
            "link           3\n",
            "dtype: int64\n"
          ]
        }
      ]
    },
    {
      "cell_type": "code",
      "source": [
        "# Remove rows with missing questions (critical for analysis)\n",
        "data = data.dropna(subset=['question'])\n",
        "\n",
        "# Remove rows with missing title, description, or link (optional; depends on importance)\n",
        "data = data.dropna(subset=['title', 'description', 'link'])\n",
        "\n",
        "# Drop duplicate rows\n",
        "data = data.drop_duplicates()"
      ],
      "metadata": {
        "id": "-7cAJ97mKurM"
      },
      "execution_count": 24,
      "outputs": []
    },
    {
      "cell_type": "code",
      "source": [
        "# Standardize text formatting: lowercase, strip extra whitespace\n",
        "for col in ['prompt', 'question', 'title', 'description']:\n",
        "    data[col] = data[col].str.strip().str.lower()\n",
        "\n",
        "print(\"\\nAfter Cleaning - Missing Values:\")\n",
        "print(data.isnull().sum())"
      ],
      "metadata": {
        "colab": {
          "base_uri": "https://localhost:8080/"
        },
        "id": "za5roMvvKuoc",
        "outputId": "29459789-c057-4d15-f1ce-7d4ef4263522"
      },
      "execution_count": 25,
      "outputs": [
        {
          "output_type": "stream",
          "name": "stdout",
          "text": [
            "\n",
            "After Cleaning - Missing Values:\n",
            "prompt         0\n",
            "question       0\n",
            "title          0\n",
            "description    0\n",
            "link           0\n",
            "dtype: int64\n"
          ]
        }
      ]
    },
    {
      "cell_type": "code",
      "source": [
        "# Check dataset shape after cleaning\n",
        "print(f\"\\nDataset shape after cleaning: {data.shape}\")"
      ],
      "metadata": {
        "colab": {
          "base_uri": "https://localhost:8080/"
        },
        "id": "82hX3lNTKuhE",
        "outputId": "08907fe8-c10b-4845-8dd5-602e31a9481b"
      },
      "execution_count": 26,
      "outputs": [
        {
          "output_type": "stream",
          "name": "stdout",
          "text": [
            "\n",
            "Dataset shape after cleaning: (495, 5)\n"
          ]
        }
      ]
    },
    {
      "cell_type": "code",
      "source": [],
      "metadata": {
        "id": "8y6NkPolKuec"
      },
      "execution_count": null,
      "outputs": []
    }
  ]
}